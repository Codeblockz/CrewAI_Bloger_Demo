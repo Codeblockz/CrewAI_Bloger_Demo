{
 "cells": [
  {
   "cell_type": "markdown",
   "metadata": {},
   "source": [
    "# Create Agents to Research and Write an Article\n",
    "\n",
    "In this notebook, you will be introduced to the foundational concepts of multi-agent systems and get an overview of the crewAI framework."
   ]
  },
  {
   "cell_type": "markdown",
   "metadata": {},
   "source": [
    "The libraries are already installed in the classroom. If you're running this notebook on your own machine, you can install the following:\n",
    "```Python\n",
    "!pip install crewai==0.30.11 crewai_tools==0.2.6 langchain_community==0.0.38 langchain==0.1.20\n",
    "```"
   ]
  },
  {
   "cell_type": "code",
   "execution_count": 1,
   "metadata": {
    "height": 64
   },
   "outputs": [],
   "source": [
    "# Warning control\n",
    "import warnings\n",
    "warnings.filterwarnings('ignore')"
   ]
  },
  {
   "cell_type": "markdown",
   "metadata": {},
   "source": [
    "- Import from the crewAI libray."
   ]
  },
  {
   "cell_type": "code",
   "execution_count": 3,
   "metadata": {
    "height": 30
   },
   "outputs": [],
   "source": [
    "from crewai import Agent, Task, Crew"
   ]
  },
  {
   "cell_type": "markdown",
   "metadata": {},
   "source": [
    "- As a LLM for your agents, you'll be using OpenAI's `gpt-4o`.\n",
    "\n",
    "**Optional Note:** crewAI also allow other popular models to be used as a LLM for your Agents. You can see some of the examples at the [bottom of the notebook](#1)."
   ]
  },
  {
   "cell_type": "code",
   "execution_count": 4,
   "metadata": {},
   "outputs": [],
   "source": [
    "from crewai import Agent, Task, Crew\n",
    "from langchain_openai import ChatOpenAI\n",
    "import os\n",
    "\n",
    "#from dotenv import load_dotenv, dotenv_values \n",
    "# loading variables from .env file\n",
    "load_dotenv() \n",
    "os.environ[\"OPENAI_MODEL_NAME\"] = 'gpt-4o'\n",
    "\n",
    "# Testing local llms\n",
    "llm = ChatOpenAI(\n",
    "    model = \"crewai-llama3\",\n",
    "    base_url = \"http://localhost:11434/v1\")"
   ]
  },
  {
   "cell_type": "markdown",
   "metadata": {},
   "source": [
    "### Tools"
   ]
  },
  {
   "cell_type": "code",
   "execution_count": 5,
   "metadata": {},
   "outputs": [],
   "source": [
    "from crewai_tools import ScrapeWebsiteTool, SerperDevTool, YoutubeChannelSearchTool, YoutubeVideoSearchTool, CodeDocsSearchTool\n",
    "codeDocTool = CodeDocsSearchTool()\n",
    "youtubeChannelTool= YoutubeChannelSearchTool()\n",
    "youtubeVideoTool = YoutubeVideoSearchTool()\n",
    "search_tool = SerperDevTool()\n",
    "scrape_tool = ScrapeWebsiteTool()"
   ]
  },
  {
   "cell_type": "markdown",
   "metadata": {},
   "source": [
    "## Creating Agents\n",
    "\n",
    "- Define your Agents, and provide them a `role`, `goal` and `backstory`.\n",
    "- It has been seen that LLMs perform better when they are role playing."
   ]
  },
  {
   "cell_type": "code",
   "execution_count": 15,
   "metadata": {
    "height": 234
   },
   "outputs": [],
   "source": [
    "planner = Agent(\n",
    "    role=\"Content Planner\",\n",
    "    goal=\"Plan engaging and factually accurate content on {topic}\",\n",
    "    backstory=\"You're working on planning a blog article \"\n",
    "              \"about the topic: {topic}.\"\n",
    "              \"You collect information that helps the \"\n",
    "              \"audience learn something \"\n",
    "              \"and make informed decisions. \"\n",
    "              \"Your work is the basis for \"\n",
    "              \"the Content Writer to write an article on this topic.\",\n",
    "    allow_delegation=False,\n",
    "\tverbose=True,\n",
    "    tools=[scrape_tool, search_tool],\n",
    "   #llm=llm\n",
    ")\n",
    "\n",
    "##############################################################\n",
    "# Agent: Writer\n",
    "#\n",
    "##############################################################\n",
    "writer = Agent(\n",
    "    role=\"Content Writer\",\n",
    "    goal=\"Write insightful and easy to follow \"\n",
    "         \"tutorial about the topic: {topic}\",\n",
    "    backstory=\"You're working on a writing \"\n",
    "              \"a new tutorial about the topic: {topic}. \"\n",
    "              \"You base your writing on the work of \"\n",
    "              \"the Content Planner, who provides an outline \"\n",
    "              \"and relevant context about the topic. \"\n",
    "              \"You follow the main objectives and \"\n",
    "              \"direction of the outline, \"\n",
    "              \"as provide by the Content Planner. \"\n",
    "              \"You also provide objective and impartial insights \"\n",
    "              \"and back them up with information \"\n",
    "              \"provide by the Content Planner. \"\n",
    "              \"You state your sources.\",\n",
    "    allow_delegation=False,\n",
    "    verbose=True,\n",
    "    #llm=llm\n",
    ")\n",
    "\n",
    "##############################################################\n",
    "# Agent: Editor\n",
    "#\n",
    "##############################################################\n",
    "editor = Agent(\n",
    "    role=\"Editor\",\n",
    "    goal=\"Edit a given blog post to align with \"\n",
    "         \"the writing style of the organization. \"\n",
    "         \"Ensure that the blog post is written for beginners\",\n",
    "    backstory=\"You are an editor who receives a blog post \"\n",
    "              \"from the Content Writer. \"\n",
    "              \"Your goal is to review the blog post \"\n",
    "              \"to ensure that it follows journalistic best practices,\"\n",
    "              \"provides balanced viewpoints \"\n",
    "              \"when providing opinions or assertions, \"\n",
    "              \"and also avoids major controversial topics \"\n",
    "              \"or opinions when possible.\",\n",
    "    allow_delegation=False,\n",
    "    verbose=True,\n",
    "    #llm=llm\n",
    ")\n",
    "##############################################################\n",
    "# Agent: Researcher\n",
    "#\n",
    "##############################################################\n",
    "researcher = Agent(\n",
    "    role=\"Tech Researcher\",\n",
    "    goal=\"To find excellent sources of information for the writer to use as a starting point.\",\n",
    "    tools=[search_tool, scrape_tool,codeDocTool, youtubeChannelTool, youtubeVideoTool],\n",
    "    verbose=True,\n",
    "    backstory=(\n",
    "        \"As a Tech Researcher, your prowess in \"\n",
    "        \"navigating and extracting critical \"\n",
    "        \"information from documentation is unmatched.\"\n",
    "        \"You are an expert in reading code and translating it to plain english\"    \n",
    "    ),\n",
    "    #llm=llm,\n",
    "    \n",
    "   # allow_delegation=False\n",
    ")"
   ]
  },
  {
   "cell_type": "markdown",
   "metadata": {},
   "source": [
    "## Creating Tasks\n",
    "\n",
    "- Define your Tasks, and provide them a `description`, `expected_output` and `agent`."
   ]
  },
  {
   "cell_type": "markdown",
   "metadata": {},
   "source": [
    "### Task: Plan"
   ]
  },
  {
   "cell_type": "code",
   "execution_count": 7,
   "metadata": {},
   "outputs": [],
   "source": [
    "plan = Task(\n",
    "    description=(\n",
    "        \"1. Prioritize the ease of use for this tutorial, \"\n",
    "            \"and latest use cases on {topic}.\\n\"\n",
    "        \"2. Plan the article for those with limited knowledge of python.\\n\"\n",
    "        \"3. Develop a detailed content outline including \"\n",
    "            \"an introduction, key points, and a call to action.\\n\"\n",
    "        \"4. Include SEO keywords and relevant data or sources.\"\n",
    "    ),\n",
    "    expected_output=\"A comprehensive content plan document \"\n",
    "        \"with an outline, audience analysis, \"\n",
    "        \"SEO keywords, and resources.\",\n",
    "    agent=planner,\n",
    "    tools=[search_tool, scrape_tool]\n",
    ")"
   ]
  },
  {
   "cell_type": "markdown",
   "metadata": {},
   "source": [
    "### Task: Write"
   ]
  },
  {
   "cell_type": "code",
   "execution_count": 8,
   "metadata": {
    "height": 319
   },
   "outputs": [],
   "source": [
    "write = Task(\n",
    "    description=(\n",
    "        \"1. Use the content plan to craft an easy to follow \"\n",
    "            \"blog post on {topic}.\\n\"\n",
    "        \"2. Incorporate SEO keywords naturally.\\n\"\n",
    "\t\t\"3. Sections/Subtitles are properly named \"\n",
    "            \"in an engaging manner.\\n\"\n",
    "        \"4. Ensure the post is structured with an \"\n",
    "            \"engaging introduction, insightful body, \"\n",
    "            \"and a summarizing conclusion.\\n\"\n",
    "        \"5. Proofread for grammatical errors and \"\n",
    "            \"alignment with the brand's voice.\\n\"\n",
    "    ),\n",
    "    expected_output=\"A well-written blog post \"\n",
    "        \"in markdown format, ready for publication, \"\n",
    "        \"each section should have 2 or 3 paragraphs.\",\n",
    "    agent=writer,\n",
    "    tools=[search_tool, scrape_tool],\n",
    "    context = [plan]\n",
    ")"
   ]
  },
  {
   "cell_type": "markdown",
   "metadata": {},
   "source": [
    "### Task: Edit"
   ]
  },
  {
   "cell_type": "code",
   "execution_count": 9,
   "metadata": {
    "height": 166
   },
   "outputs": [],
   "source": [
    "edit = Task(\n",
    "    description=(\"Proofread the given blog post for \"\n",
    "                 \"grammatical errors and \"\n",
    "                 \"alignment with the brand's voice.\"),\n",
    "    expected_output=\"A well-written blog post in markdown format, \"\n",
    "                    \"ready for publication, \"\n",
    "                    \"each section should have 2 or 3 paragraphs.\",\n",
    "    agent=editor,\n",
    "    tools=[search_tool, scrape_tool]\n",
    ")"
   ]
  },
  {
   "cell_type": "markdown",
   "metadata": {},
   "source": [
    "### All Task"
   ]
  },
  {
   "cell_type": "code",
   "execution_count": 16,
   "metadata": {
    "height": 268
   },
   "outputs": [],
   "source": [
    "################################################################################\n",
    "# Task: Plan\n",
    "#\n",
    "################################################################################\n",
    "plan = Task(\n",
    "    description=(\n",
    "        \"1. Choose a task that is easy to replicate for the following topic:  \"\n",
    "            \"{topic}.\\n\"\n",
    "        \"2. Plan the article for those with limited knowledge of python.\\n\"\n",
    "        \"3. Develop a detailed content outline including \"\n",
    "            \"an introduction, key points, and a call to action.\\n\"\n",
    "        \"4. Include SEO keywords and relevant data or sources.\"\n",
    "    ),\n",
    "    expected_output=\"A comprehensive content plan document \"\n",
    "        \"with an outline, audience analysis, \"\n",
    "        \"SEO keywords, and resources.\"\n",
    "        \"It should be formatted in a sequential step by step manner.\",\n",
    "    agent=planner,\n",
    "    tools=[search_tool, scrape_tool]\n",
    ")\n",
    "\n",
    "################################################################################\n",
    "# Task: Research\n",
    "#\n",
    "################################################################################\n",
    "research = Task(\n",
    "    description=(\"Given the current plan by the Content Planner make sure to do the following.\\n\"\n",
    "        \"1. Determine which sites are the best to search. For the planned topic of {topic}.\\n\"\n",
    "        \"2. Make a summary of sources the Writer can use as a reference when making the article.\"\n",
    "    ),\n",
    "    expected_output=\"A structured list of resources to use a brief description for each source.\",\n",
    "    agent=researcher,\n",
    "    tools=[search_tool, scrape_tool,codeDocTool, youtubeChannelTool, youtubeVideoTool],\n",
    "    context=[plan]\n",
    ")\n",
    "\n",
    "################################################################################\n",
    "# Task: Write\n",
    "#\n",
    "################################################################################\n",
    "write = Task(\n",
    "    description=(\n",
    "        \"1. Using the outline provided by the content planner and tech researcher make a\"\n",
    "            \"blog post on {topic}.\\n\"\n",
    "        \"2. Incorporate SEO keywords naturally.\\n\"\n",
    "\t\t\"3. Sections/Subtitles are properly named \"\n",
    "            \"in an engaging manner.\\n\"\n",
    "        \"4. Ensure the post is structured with an \"\n",
    "            \"engaging introduction, insightful body, \"\n",
    "            \"and a summarizing conclusion.\\n\"\n",
    "        \"5. This should be written in a follow along style that the reader can replicate.\\n\"\n",
    "        \"6. Proofread for grammatical errors and \"\n",
    "            \"alignment with the brand's voice.\\n\"\n",
    "    ),\n",
    "    expected_output=\"A well-written blog post \"\n",
    "        \"in markdown format, ready for publication, \"\n",
    "        \"each section should have 2 or 3 paragraphs.\",\n",
    "    agent=writer,\n",
    "    tools=[search_tool, scrape_tool],\n",
    "    context = [plan,research]\n",
    ")\n",
    "\n",
    "################################################################################\n",
    "# Task: Edit\n",
    "#\n",
    "################################################################################\n",
    "edit = Task(\n",
    "    description=(\"Proofread the given blog post for \"\n",
    "                 \"grammatical errors and \"\n",
    "                 \"ensure that there is plenty of content.\"),\n",
    "    expected_output=\"A well-written blog post in markdown format, \"\n",
    "                    \"ready for publication, \"\n",
    "                    \"each section should have 2 or 3 paragraphs.\",\n",
    "    agent=editor,\n",
    "    context=[plan,research,write],\n",
    "    output_file=\"final_article.md\"\n",
    ")"
   ]
  },
  {
   "cell_type": "markdown",
   "metadata": {},
   "source": [
    "## Creating the Crew\n",
    "\n",
    "- Create your crew of Agents\n",
    "- Pass the tasks to be performed by those agents.\n",
    "    - **Note**: *For this simple example*, the tasks will be performed sequentially (i.e they are dependent on each other), so the _order_ of the task in the list _matters_.\n",
    "- `verbose=2` allows you to see all the logs of the execution. "
   ]
  },
  {
   "cell_type": "code",
   "execution_count": 17,
   "metadata": {
    "height": 98
   },
   "outputs": [
    {
     "name": "stderr",
     "output_type": "stream",
     "text": [
      "2024-06-15 10:16:50,915 - 14576 - __init__.py-__init__:518 - WARNING: Overriding of current TracerProvider is not allowed\n"
     ]
    }
   ],
   "source": [
    "from crewai import Crew, Process\n",
    "from langchain_openai import ChatOpenAI\n",
    "\n",
    "crew = Crew(\n",
    "    agents=[planner, researcher, writer, editor],\n",
    "    tasks=[plan, research, write, edit],\n",
    "    process=Process.sequential,\n",
    "    verbose=True,\n",
    "    \n",
    ")\n",
    "#Process.hierarchical\n",
    "#Process.sequential\n",
    "#manager_llm=ChatOpenAI(model=\"gpt-3.5-turbo\", \n",
    " #                          temperature=0.7)"
   ]
  },
  {
   "cell_type": "markdown",
   "metadata": {},
   "source": [
    "## Running the Crew"
   ]
  },
  {
   "cell_type": "markdown",
   "metadata": {},
   "source": [
    "**Note**: LLMs can provide different outputs for they same input, so what you get might be different than what you see in the video."
   ]
  },
  {
   "cell_type": "code",
   "execution_count": null,
   "metadata": {
    "height": 30
   },
   "outputs": [],
   "source": [
    "result = crew.kickoff(inputs={\"topic\": \"Building a Simple blog writing Crew with CrewAI\"})"
   ]
  },
  {
   "cell_type": "markdown",
   "metadata": {},
   "source": [
    "- Display the results of your execution as markdown in the notebook."
   ]
  },
  {
   "cell_type": "code",
   "execution_count": 19,
   "metadata": {
    "height": 47
   },
   "outputs": [
    {
     "data": {
      "text/markdown": [
       "my best complete final answer to the task.\n",
       "\n",
       "```markdown\n",
       "## Building a Simple Blog Writing Crew with CrewAI\n",
       "\n",
       "### Introduction\n",
       "In the ever-evolving world of content creation, staying ahead of the curve is crucial. Enter **CrewAI**, a cutting-edge framework designed to orchestrate role-playing, autonomous AI agents. By fostering collaborative intelligence, CrewAI empowers agents to work together seamlessly, tackling complex tasks. This article aims to guide you through building a simple blog writing crew using CrewAI, showcasing its potential to streamline your blog writing process and enhance productivity.\n",
       "\n",
       "### Understanding CrewAI Components\n",
       "Before diving into the setup, it’s essential to understand the key components of CrewAI:\n",
       "\n",
       "**Agents**: Agents in CrewAI are autonomous entities with defined roles and goals. For instance, a 'Researcher' might be tasked with gathering information, while a 'Writer' focuses on crafting engaging content.\n",
       "\n",
       "**Tasks**: These are individual assignments allocated to agents. Each task comes with a description and an expected output, ensuring clarity and direction.\n",
       "\n",
       "**Tools**: Agents utilize various tools to accomplish their tasks. These could include web scraping tools, API integration functionalities, or language models.\n",
       "\n",
       "**Processes**: CrewAI orchestrates task execution through processes. These processes can be sequential or hierarchical, guiding agents through their tasks efficiently.\n",
       "\n",
       "### Initial Setup\n",
       "Setting up CrewAI involves a few straightforward steps:\n",
       "\n",
       "1. **Installation**:\n",
       "   To install CrewAI, use the following command:\n",
       "   ```bash\n",
       "   pip install crewai\n",
       "   ```\n",
       "\n",
       "   For additional tools, use:\n",
       "   ```bash\n",
       "   pip install 'crewai[tools]'\n",
       "   ```\n",
       "\n",
       "2. **Setting Up Environment Variables**:\n",
       "   Ensure you have the necessary API keys by setting up environment variables:\n",
       "   ```python\n",
       "   import os\n",
       "   os.environ[\"OPENAI_API_KEY\"] = \"YOUR_API_KEY\"\n",
       "   os.environ[\"SERPER_API_KEY\"] = \"Your Key\"\n",
       "   ```\n",
       "\n",
       "### Creating Your First Crew\n",
       "Now, let’s create a blog writing crew with CrewAI. Follow these steps:\n",
       "\n",
       "1. **Define Agents and Their Roles**:\n",
       "   ```python\n",
       "   from crewai import Agent, Task, Crew, Process\n",
       "   from crewai_tools import SerperDevTool\n",
       "\n",
       "   search_tool = SerperDevTool()\n",
       "\n",
       "   researcher = Agent(\n",
       "       role='Senior Research Analyst',\n",
       "       goal='Uncover cutting-edge developments in AI and data science',\n",
       "       backstory=\"\"\"You work at a leading tech think tank.\n",
       "       Your expertise lies in identifying emerging trends.\n",
       "       You have a knack for dissecting complex data and presenting actionable insights.\"\"\",\n",
       "       verbose=True,\n",
       "       tools=[search_tool]\n",
       "   )\n",
       "\n",
       "   writer = Agent(\n",
       "       role='Tech Content Strategist',\n",
       "       goal='Craft compelling content on tech advancements',\n",
       "       backstory=\"\"\"You are a renowned Content Strategist, known for your insightful and engaging articles.\n",
       "       You transform complex concepts into compelling narratives.\"\"\",\n",
       "       verbose=True\n",
       "   )\n",
       "   ```\n",
       "\n",
       "2. **Create Tasks for Agents**:\n",
       "   ```python\n",
       "   task1 = Task(\n",
       "       description=\"\"\"Conduct a comprehensive analysis of the latest advancements in AI in 2024.\n",
       "       Identify key trends, breakthrough technologies, and potential industry impacts.\"\"\",\n",
       "       expected_output=\"Full analysis report in bullet points\",\n",
       "       agent=researcher\n",
       "   )\n",
       "\n",
       "   task2 = Task(\n",
       "       description=\"\"\"Using the insights provided, develop an engaging blog\n",
       "       post that highlights the most significant AI advancements.\n",
       "       Your post should be informative yet accessible, catering to a tech-savvy audience.\n",
       "       Make it sound cool, avoid complex words so it doesn't sound like AI.\"\"\",\n",
       "       expected_output=\"Full blog post of at least 4 paragraphs\",\n",
       "       agent=writer\n",
       "   )\n",
       "   ```\n",
       "\n",
       "3. **Initialize and Configure the Crew**:\n",
       "   ```python\n",
       "   crew = Crew(\n",
       "       agents=[researcher, writer],\n",
       "       tasks=[task1, task2],\n",
       "       verbose=2\n",
       "   )\n",
       "   ```\n",
       "\n",
       "4. **Execute the Crew**:\n",
       "   ```python\n",
       "   result = crew.kickoff()\n",
       "   print(\"######################\")\n",
       "   print(result)\n",
       "   ```\n",
       "\n",
       "### Example Project: Blog Writer Assistant\n",
       "To illustrate, let’s walk through a practical example of a blog writing crew with a 'Senior Research Analyst' and a 'Tech Content Strategist'. The researcher agent gathers the latest AI advancements, while the writer agent crafts a compelling blog post based on the research.\n",
       "\n",
       "By defining clear roles, specific tasks, and utilizing the appropriate tools, you can seamlessly automate the content creation process. This not only saves time but also ensures high-quality and consistent output.\n",
       "\n",
       "### Advanced Tips and Best Practices\n",
       "To optimize your CrewAI setup, consider these advanced tips:\n",
       "\n",
       "1. **Securely Manage API Keys**:\n",
       "   Always store API keys securely using environment variables or dedicated vault services to prevent unauthorized access.\n",
       "\n",
       "2. **Optimize Agent Performance**:\n",
       "   Regularly update and fine-tune your agents and tools to ensure optimal performance. Utilize logging and monitoring to identify and address any potential bottlenecks.\n",
       "\n",
       "3. **Integrate Additional Tools and Services**:\n",
       "   Enhance the functionality of your agents by integrating additional tools and services. This could include advanced language models, data analytics tools, or custom APIs.\n",
       "\n",
       "### Call to Action\n",
       "Ready to revolutionize your blog writing process? Try building your blog writing crew using CrewAI today. For further assistance, explore the [CrewAI GitHub Repository](https://github.com/joaomdmoura/crewAI), [CrewAI Documentation](https://docs.crewai.com/), and join the community forums for additional support and resources.\n",
       "\n",
       "### Resources\n",
       "- [CrewAI GitHub Repository](https://github.com/joaomdmoura/crewAI)\n",
       "- [CrewAI Documentation](https://docs.crewai.com/)\n",
       "- [Composio Blog on CrewAI Examples](https://blog.composio.dev/crewai-examples/)\n",
       "\n",
       "By following this guide, you will be well on your way to creating a powerful and efficient blog writing crew with CrewAI. Happy blogging!\n",
       "```"
      ],
      "text/plain": [
       "<IPython.core.display.Markdown object>"
      ]
     },
     "execution_count": 19,
     "metadata": {},
     "output_type": "execute_result"
    }
   ],
   "source": [
    "from IPython.display import Markdown\n",
    "Markdown(result)"
   ]
  },
  {
   "cell_type": "code",
   "execution_count": 16,
   "metadata": {},
   "outputs": [
    {
     "data": {
      "text/markdown": [
       "my best complete final answer to the task.\n",
       "\n",
       "\n",
       "# Building a Simple Blog Writing Crew with CrewAI\n",
       "\n",
       "## Introduction\n",
       "\n",
       "Welcome to the future of blog writing! In this article, we’ll explore how you can build a simple yet effective blog writing crew using CrewAI, an open-source framework for orchestrating collaborative AI agents. Whether you're a seasoned blogger or just starting out, CrewAI can help streamline your content creation process, enabling you to produce high-quality articles with minimal effort.\n",
       "\n",
       "## Understanding AI Agents\n",
       "\n",
       "Before diving into CrewAI, it's essential to understand the concept of AI agents. AI agents are software entities that perform tasks autonomously. They can perform various functions such as translation, summarizing, reasoning, and task automation. The power of AI agents lies in their ability to handle complex tasks through collaborative intelligence, making them ideal for content creation.\n",
       "\n",
       "## Introduction to CrewAI\n",
       "\n",
       "### What is CrewAI?\n",
       "\n",
       "CrewAI is an open-source framework designed to orchestrate role-playing and autonomous AI agents. It empowers agents to work together seamlessly, tackling complex tasks efficiently. Whether you're building a smart assistant platform or an automated content creation team, CrewAI provides the backbone for sophisticated multi-agent interactions.\n",
       "\n",
       "### Key Features of CrewAI\n",
       "\n",
       "- **Role-based Agents:** Define agents with specific roles, goals, and backstories to simulate human-like collaboration.\n",
       "- **Task Management:** Define tasks with tools and dynamically assign them to agents.\n",
       "- **Inter-agent Delegation:** Agents can delegate tasks to other agents, enhancing problem-solving efficiency.\n",
       "\n",
       "## Setting Up CrewAI\n",
       "\n",
       "### Prerequisites\n",
       "\n",
       "Before you start, ensure you have a basic understanding of Python. You'll also need to install CrewAI and necessary libraries. Follow these steps to set up your environment:\n",
       "\n",
       "1. **Install CrewAI and Langchain:**\n",
       "    ```bash\n",
       "    pip install crewai langchain-google-genai\n",
       "    ```\n",
       "\n",
       "2. **Set Up Your Virtual Environment:**\n",
       "    ```bash\n",
       "    python -m venv crewai_env\n",
       "    source crewai_env/bin/activate  # On Windows use `crewai_env\\Scripts\\activate`\n",
       "    ```\n",
       "\n",
       "## Building a Collaborative AI Crew for Blog Writing\n",
       "\n",
       "### Defining Roles\n",
       "\n",
       "To create an effective blog writing crew, you need to define specific roles for each agent. Here are the roles we'll be using:\n",
       "\n",
       "- **Idea Analyst:** Analyzes and expands on blog ideas.\n",
       "- **Writer:** Writes compelling articles.\n",
       "- **Editor:** Edits and formats content.\n",
       "\n",
       "### Sample Code for Defining Agents\n",
       "\n",
       "Here's a detailed code example for defining each agent:\n",
       "\n",
       "```python\n",
       "from crewai import Agent\n",
       "from langchain_google_genai import GoogleGenerativeAI\n",
       "\n",
       "GOOGLE_API_KEY = \"Your Key\"\n",
       "llm = GoogleGenerativeAI(model=\"gemini-pro\", google_api_key=GOOGLE_API_KEY)\n",
       "\n",
       "idea_analyst = Agent(\n",
       "    role=\"Idea Analyst\",\n",
       "    goal=\"Comprehensively analyze an idea to prepare blueprints for the article\",\n",
       "    backstory=\"Experienced content analyst\",\n",
       "    llm=llm,\n",
       "    verbose=True\n",
       ")\n",
       "\n",
       "writer = Agent(\n",
       "    role=\"Writer\",\n",
       "    goal=\"Write compelling articles\",\n",
       "    backstory=\"Renowned fiction-writer\",\n",
       "    llm=llm,\n",
       "    verbose=True\n",
       ")\n",
       "\n",
       "editor = Agent(\n",
       "    role=\"Editor\",\n",
       "    goal=\"Edit and format content\",\n",
       "    backstory=\"Experienced editor\",\n",
       "    llm=llm,\n",
       "    tools=[FileTools.write_file],\n",
       "    verbose=True\n",
       ")\n",
       "```\n",
       "\n",
       "## Defining Tasks for Each Agent\n",
       "\n",
       "Next, you'll need to define tasks for each agent. Here's how to do it:\n",
       "\n",
       "### Task Definitions\n",
       "\n",
       "```python\n",
       "from textwrap import dedent\n",
       "\n",
       "class CreateTasks:\n",
       "    @staticmethod\n",
       "    def expand_idea(idea):\n",
       "        return dedent(f\"\"\"Analyze the given task {idea}. Prepare comprehensive pin-points for the article.\"\"\")\n",
       "    \n",
       "    @staticmethod\n",
       "    def write():\n",
       "        return dedent(\"Write a compelling article based on the blueprint ideas.\")\n",
       "    \n",
       "    @staticmethod\n",
       "    def edit():\n",
       "        return dedent(\"Edit, format, and save the content.\")\n",
       "```\n",
       "\n",
       "## Assembling the Crew and Executing Tasks\n",
       "\n",
       "Finally, you'll assemble the agents and tasks to create and run your blog writing crew.\n",
       "\n",
       "### Creating and Running the Crew\n",
       "\n",
       "```python\n",
       "from crewai import Crew, Task\n",
       "from tasks import CreateTasks\n",
       "\n",
       "class ContentWritingCrew:\n",
       "    def __init__(self, idea):\n",
       "        self.idea = idea\n",
       "\n",
       "    def __call__(self):\n",
       "        tasks = [\n",
       "            Task(description=CreateTasks.expand_idea(self.idea), agent=idea_analyst),\n",
       "            Task(description=CreateTasks.write(), agent=writer),\n",
       "            Task(description=CreateTasks.edit(), agent=editor)\n",
       "        ]\n",
       "        crew = Crew(tasks=tasks, agents=[idea_analyst, writer, editor], verbose=True)\n",
       "        result = crew.kickoff()\n",
       "        return result\n",
       "\n",
       "if __name__ == \"__main__\":\n",
       "    idea = input(\"Enter blog idea: \")\n",
       "    my_crew = ContentWritingCrew(idea=idea)\n",
       "    result = my_crew()\n",
       "    print(result)\n",
       "```\n",
       "\n",
       "## Real-world Use Cases\n",
       "\n",
       "While this tutorial focuses on blog writing, AI agents have numerous applications beyond content creation. They can serve as personal AI assistants, code interpreters, virtual instructors, and more. The flexibility and scalability of CrewAI make it suitable for various advanced AI-driven tasks.\n",
       "\n",
       "## Conclusion\n",
       "\n",
       "AI agents, particularly when orchestrated using frameworks like CrewAI, represent the future of content creation. By breaking down complex tasks into manageable roles and leveraging the capabilities of large language models, you can streamline your blog writing process and boost productivity. Start experimenting with CrewAI today and take your content creation to the next level!\n",
       "\n",
       "## Call to Action\n",
       "\n",
       "Ready to revolutionize your blog writing process? Start using CrewAI today and see how AI agents can enhance your content creation workflow. Don't forget to share your experiences and any questions in the comments below!\n",
       "\n",
       "## Resources\n",
       "\n",
       "- [CrewAI GitHub Repository](https://github.com/joaomdmoura/crewAI)\n",
       "- [Langchain Documentation](https://python.langchain.com/v0.2/docs/introduction/)\n",
       "- [Google Generative AI Documentation](https://cloud.google.com/generative-ai)\n",
       "- [Replit Repository](https://replit.com/@Sunil-KumarKu17/CollborativeAIAgent)\n",
       "\n",
       "\n",
       "This is a well-structured and complete blog post, ready for publication. It provides a thorough introduction to CrewAI, explains the necessary steps to set it up, and offers practical examples for building a collaborative AI crew for blog writing. Additionally, it discusses real-world use cases and encourages readers to start experimenting with CrewAI."
      ],
      "text/plain": [
       "<IPython.core.display.Markdown object>"
      ]
     },
     "metadata": {},
     "output_type": "display_data"
    }
   ],
   "source": [
    "from IPython.display import Markdown, display\n",
    "display(Markdown(\"./final_article.md\"))"
   ]
  },
  {
   "cell_type": "markdown",
   "metadata": {},
   "source": [
    "## Try it Yourself\n",
    "\n",
    "- Pass in a topic of your choice and see what the agents come up with!"
   ]
  },
  {
   "cell_type": "code",
   "execution_count": null,
   "metadata": {
    "height": 47
   },
   "outputs": [],
   "source": [
    "topic = \"YOUR TOPIC HERE\"\n",
    "result = crew.kickoff(inputs={\"topic\": topic})"
   ]
  },
  {
   "cell_type": "markdown",
   "metadata": {},
   "source": [
    "<a name='1'></a>\n",
    " ## Other Popular Models as LLM for your Agents"
   ]
  },
  {
   "cell_type": "markdown",
   "metadata": {},
   "source": [
    "#### Hugging Face (HuggingFaceHub endpoint)\n",
    "\n",
    "```Python\n",
    "from langchain_community.llms import HuggingFaceHub\n",
    "\n",
    "llm = HuggingFaceHub(\n",
    "    repo_id=\"HuggingFaceH4/zephyr-7b-beta\",\n",
    "    huggingfacehub_api_token=\"<HF_TOKEN_HERE>\",\n",
    "    task=\"text-generation\",\n",
    ")\n",
    "\n",
    "### you will pass \"llm\" to your agent function\n",
    "```"
   ]
  },
  {
   "cell_type": "markdown",
   "metadata": {},
   "source": [
    "#### Mistral API\n",
    "\n",
    "```Python\n",
    "OPENAI_API_KEY=your-mistral-api-key\n",
    "OPENAI_API_BASE=https://api.mistral.ai/v1\n",
    "OPENAI_MODEL_NAME=\"mistral-small\"\n",
    "```"
   ]
  },
  {
   "cell_type": "markdown",
   "metadata": {},
   "source": [
    "#### Cohere\n",
    "\n",
    "```Python\n",
    "from langchain_community.chat_models import ChatCohere\n",
    "# Initialize language model\n",
    "os.environ[\"COHERE_API_KEY\"] = \"your-cohere-api-key\"\n",
    "llm = ChatCohere()\n",
    "\n",
    "### you will pass \"llm\" to your agent function\n",
    "```"
   ]
  },
  {
   "cell_type": "markdown",
   "metadata": {},
   "source": [
    "### For using Llama locally with Ollama and more, checkout the crewAI documentation on [Connecting to any LLM](https://docs.crewai.com/how-to/LLM-Connections/)."
   ]
  }
 ],
 "metadata": {
  "colab": {
   "gpuType": "T4",
   "provenance": []
  },
  "kernelspec": {
   "display_name": "Python 3 (ipykernel)",
   "language": "python",
   "name": "python3"
  },
  "language_info": {
   "codemirror_mode": {
    "name": "ipython",
    "version": 3
   },
   "file_extension": ".py",
   "mimetype": "text/x-python",
   "name": "python",
   "nbconvert_exporter": "python",
   "pygments_lexer": "ipython3",
   "version": "3.11.9"
  }
 },
 "nbformat": 4,
 "nbformat_minor": 4
}
